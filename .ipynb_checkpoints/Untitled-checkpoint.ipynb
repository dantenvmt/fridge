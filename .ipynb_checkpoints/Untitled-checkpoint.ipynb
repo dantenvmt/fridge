{
 "cells": [
  {
   "cell_type": "code",
   "execution_count": 1,
   "id": "fcdf71f3-26ed-42c5-9b1e-645ebd936264",
   "metadata": {},
   "outputs": [],
   "source": [
    "from langchain_groq import ChatGroq"
   ]
  },
  {
   "cell_type": "code",
   "execution_count": 2,
   "id": "b7743905-60b8-4956-b440-dc737e250aa2",
   "metadata": {},
   "outputs": [],
   "source": [
    "api_key = \"xxxx\"\n",
    "\n",
    "\n",
    "\n",
    "llm = ChatGroq(\n",
    "   temperature = 0,\n",
    "    groq_api_key = api_key,\n",
    "    model_name = \"llama-3.1-70b-versatile\"\n",
    ")"
   ]
  },
  {
   "cell_type": "code",
   "execution_count": 3,
   "id": "fc87b7e9-9267-4e75-923b-6a59c939e890",
   "metadata": {},
   "outputs": [],
   "source": [
    "response = llm.invoke('hi')"
   ]
  },
  {
   "cell_type": "code",
   "execution_count": 4,
   "id": "2ad3df09-3591-4034-ae66-12c7e1581ef5",
   "metadata": {},
   "outputs": [
    {
     "data": {
      "text/plain": [
       "'How can I assist you today?'"
      ]
     },
     "execution_count": 4,
     "metadata": {},
     "output_type": "execute_result"
    }
   ],
   "source": [
    "response.content"
   ]
  },
  {
   "cell_type": "code",
   "execution_count": 5,
   "id": "6145b954-4799-4707-a221-4b246670a11b",
   "metadata": {},
   "outputs": [
    {
     "name": "stderr",
     "output_type": "stream",
     "text": [
      "USER_AGENT environment variable not set, consider setting it to identify your requests.\n"
     ]
    },
    {
     "name": "stdout",
     "output_type": "stream",
     "text": [
      "Data Scientist II, Product — Google CareersCareersSkip navigation linksTeamsLocationsBenefitsJobsStudentsYour careerarrow_drop_downYour career menu ApplicationsProfileSaved jobsJob alertsSign inCareersApplicationsProfileSearch jobsSaved jobsJob alertsTeamsLocationsBenefitsJobsStudentsHelpSend Feedbackjob detailsarrow_backBack to jobs searchJobs search results873  jobs matchedData Scientist II, ProductMountain View, CA, USA; New York, NY, USASenior Data Scientist ManagerMountain View, CA, USA; Boulder, CO, USAQuantitative UX Researcher, YouTube AdsNew York, NY, USA; Los Angeles, CA, USA; +2 more; +1 moreSenior Software Engineer, Infrastructure, GKE Identity and PolicySeattle, WA, USAResearch Scientist, Gen AI/ML, Computational PhotographyMountain View, CA, USAData Analytics Apprenticeship, March 2025Hyderabad, Telangana, India; Gurgaon, Haryana, India; +3 more; +2 moreSoftware Engineer III, Machine Learning, Recommendations, YouTubeMountain View, CA, USASilicon Technology and Architecture Engineer, Augmented RealityMountain View, CA, USA; San Diego, CA, USAPrincipal ArchitectTokyo, JapanTechnology Specialist, Application Modernization, Google CloudSingapore; Bengaluru, Karnataka, IndiaStaff Data Scientist, ProductMountain View, CA, USA; New York, NY, USA; +6 more; +5 moreSenior Data Scientist, ProductMountain View, CA, USA; San Bruno, CA, USA; +2 more; +1 moreData Scientist III, ResearchMountain View, CA, USA; New York, NY, USA; +5 more; +4 moreData Scientist, Cloud Planning and ProfitabilitySunnyvale, CA, USA; Kirkland, WA, USA; +2 more; +1 moreData Scientist, Ads Insight and MeasurementMountain View, CA, USA; New York, NY, USAData Scientist, User QualityMountain View, CA, USASenior Data Scientist, ResearchMountain View, CA, USA; Boulder, CO, USASenior Staff Data Scientist, ResearchSunnyvale, CA, USA; Mountain View, CA, USAStaff Data Scientist, ResearchNew York, NY, USA; Mountain View, CA, USAData Scientist III, ProductMountain View, CA, USA; Sunnyvale, CA, USA; +3 more; +2 more1‑20 of 873navigate_nextFollow Life at Google on More about usAbout usopen_in_newContact usopen_in_newPressopen_in_newRelated InformationInvestor relationsopen_in_newBlogopen_in_newEqual OpportunityGoogle is proud to be an equal opportunity and affirmative action employer. We are committed to building a workforce that is representative of the users we serve, creating a culture of belonging, and providing an equal employment opportunity regardless of race, creed, color, religion, gender, sexual orientation, gender identity/expression, national origin, disability, age, genetic information, veteran status, marital status, pregnancy or related condition (including breastfeeding), expecting or parents-to-be, criminal histories consistent with legal requirements, or any other basis protected by law. See also  Google's EEO Policy, Know your rights: workplace discrimination is illegal, Belonging at Google, and How we hire.More about usexpand_moreRelated informationexpand_moreEqual opportunityexpand_morePrivacyopen_in_newApplicant & Candidate Privacyopen_in_newTermsopen_in_newhelpHelpopen_in_newarrow_backBack to jobs searchData Scientist II, Productshare linkCopy linkemailEmail a friendcorporate_fareGoogleplaceMountain View, CA, USA; New York, NY, USAbar_chartEarlyEarlyExperience completing work as directed, and collaborating with teammates; developing knowledge of relevant concepts and processes.Applyshare linkCopy linkemailEmail a friendinfo_outlineXNote: By applying to this position you will have an opportunity to share your preferred working location from the following: Mountain View, CA, USA; New York, NY, USA.Minimum qualifications:\n",
      "Bachelor's degree in Statistics, Mathematics, Data Science, Engineering, Physics, Economics, or a related quantitative field.\n",
      "2 years of work experience with analysis applications (extracting insights, performing statistical analysis, or solving business problems), and coding (Python, R, SQL) (or 1 year of work experience with a Master's degree).\n",
      "Preferred qualifications:\n",
      "Master's degree in Statistics, Mathematics, Data Science, Engineering, Physics, Economics, or a related quantitative field.\n",
      "3 years of work experience with analysis applications (extracting insights, performing statistical analysis, or solving business problems), and coding (Python, R, SQL).\n",
      "About the jobHelp serve Google's worldwide user base of more than a billion people. Data Scientists provide quantitative support, market understanding and a strategic perspective to our partners throughout the organization. As a data-loving member of the team, you serve as an analytics expert for your partners, using numbers to help them make better decisions. You will weave stories with meaningful insight from data. You'll make critical recommendations for your fellow Googlers in Engineering and Product Management. You relish tallying up the numbers one minute and communicating your findings to a team leader the next.\n",
      "Google is an engineering company at heart. We hire people with a broad set of technical skills who are ready to take on some of technology's greatest challenges and make an impact on users around the world. At Google, engineers not only revolutionize search, they routinely work on scalability and storage solutions, large-scale applications and entirely new platforms for developers around the world. From Google Ads to Chrome, Android to YouTube, social to local, Google engineers are changing the world one technological achievement after another.The US base salary range for this full-time position is $102,000-$150,000 + bonus + equity + benefits. Our salary ranges are determined by role, level, and location. The range displayed on each job posting reflects the minimum and maximum target salaries for the position across all US locations. Within the range, individual pay is determined by work location and additional factors, including job-related skills, experience, and relevant education or training. Your recruiter can share more about the specific salary range for your preferred location during the hiring process. Please note that the compensation details listed in US role postings reflect the base salary only, and do not include bonus, equity, or benefits. Learn more about benefits at Google.Responsibilities\n",
      "Perform analysis utilizing relevant tools (e.g. SQL, R, Python). Apply standard/common tools, resources, and processes to defined problems and for moderately difficult projects, execute analytical tasks with guidance.\n",
      "Own the process of gathering, extracting, and compiling data across sources via relevant tools (e.g., SQL, R, Python). Format, re-structure, and validate data to ensure quality.\n",
      "Leverage a foundational understanding of broader business priorities and analytical techniques.\n",
      "Select appropriate approaches from clear options to address technical challenges.\n",
      "Develop working relationships outside of the team to contribute to cross-project collaborations and better understand data or products.\n",
      "Information collected and processed as part of your Google Careers profile, and any job applications you choose to submit is subject to Google's Applicant and Candidate Privacy Policy.Google is proud to be an equal opportunity and affirmative action employer. We are committed to building a workforce that is representative of the users we serve, creating a culture of belonging, and providing an equal employment opportunity regardless of race, creed, color, religion, gender, sexual orientation, gender identity/expression, national origin, disability, age, genetic information, veteran status, marital status, pregnancy or related condition (including breastfeeding), expecting or parents-to-be, criminal histories consistent with legal requirements, or any other basis protected by law. See also  Google's EEO Policy, Know your rights: workplace discrimination is illegal, Belonging at Google, and How we hire.If you have a need that requires accommodation, please let us know by completing our Accommodations for Applicants form.Google is a global company and, in order to facilitate efficient collaboration and communication globally, English proficiency is a requirement for all roles unless stated otherwise in the job posting.To all recruitment agencies: Google does not accept agency resumes. Please do not forward resumes to our jobs alias, Google employees, or any other organization location. Google is not responsible for any fees related to unsolicited resumes.Follow Life at Google on More about usAbout usopen_in_newContact usopen_in_newPressopen_in_newRelated InformationInvestor relationsopen_in_newBlogopen_in_newEqual OpportunityGoogle is proud to be an equal opportunity and affirmative action employer. We are committed to building a workforce that is representative of the users we serve, creating a culture of belonging, and providing an equal employment opportunity regardless of race, creed, color, religion, gender, sexual orientation, gender identity/expression, national origin, disability, age, genetic information, veteran status, marital status, pregnancy or related condition (including breastfeeding), expecting or parents-to-be, criminal histories consistent with legal requirements, or any other basis protected by law. See also  Google's EEO Policy, Know your rights: workplace discrimination is illegal, Belonging at Google, and How we hire.More about usexpand_moreRelated informationexpand_moreEqual opportunityexpand_morePrivacyopen_in_newApplicant & Candidate Privacyopen_in_newTermsopen_in_newhelpHelpopen_in_newFollow Life at Google on More about usAbout usopen_in_newContact usopen_in_newPressopen_in_newRelated InformationInvestor relationsopen_in_newBlogopen_in_newEqual OpportunityGoogle is proud to be an equal opportunity and affirmative action employer. We are committed to building a workforce that is representative of the users we serve, creating a culture of belonging, and providing an equal employment opportunity regardless of race, creed, color, religion, gender, sexual orientation, gender identity/expression, national origin, disability, age, genetic information, veteran status, marital status, pregnancy or related condition (including breastfeeding), expecting or parents-to-be, criminal histories consistent with legal requirements, or any other basis protected by law. See also  Google's EEO Policy, Know your rights: workplace discrimination is illegal, Belonging at Google, and How we hire.More about usexpand_moreRelated informationexpand_moreEqual opportunityexpand_morePrivacyopen_in_newApplicant & Candidate Privacyopen_in_newTermsopen_in_newhelpHelpopen_in_newGoogle appsMain menu\n"
     ]
    }
   ],
   "source": [
    "from langchain_community.document_loaders import WebBaseLoader\n",
    "\n",
    "loader = WebBaseLoader(\"https://www.google.com/about/careers/applications/jobs/results/72562310614262470-data-scientist-ii-product?q=%22Data%20Scientist%22#!t=jo&jid=127025001&\")\n",
    "page_data = loader.load().pop().page_content\n",
    "print(page_data)"
   ]
  },
  {
   "cell_type": "code",
   "execution_count": 24,
   "id": "628efdc5-57c4-4d54-9440-c7fe8f881e4a",
   "metadata": {},
   "outputs": [],
   "source": [
    "from langchain_core.prompts import PromptTemplate\n",
    "\n",
    "prompt_extract = PromptTemplate.from_template(\n",
    "          \"\"\"\n",
    "        ### SCRAPED TEXT FROM WEBSITE:\n",
    "        {page_data}\n",
    "        ### INSTRUCTION:\n",
    "        The scraped text is from the career's page of a website.\n",
    "        Your job is to extract the job postings and return them in JSON format containing the \n",
    "        following keys: `role`, `experience`, `skills` and `description`. just give one role, and return a dict\n",
    "        Only return the valid JSON. \n",
    "        ### VALID JSON (NO PREAMBLE):    \n",
    "        \"\"\"\n",
    ")"
   ]
  },
  {
   "cell_type": "code",
   "execution_count": 25,
   "id": "a1bdeeb9-3cd0-4fef-aff2-28cd4021cc79",
   "metadata": {},
   "outputs": [
    {
     "name": "stdout",
     "output_type": "stream",
     "text": [
      "```\n",
      "{\n",
      "    \"role\": \"Data Scientist II, Product\",\n",
      "    \"experience\": \"2 years of work experience with analysis applications (extracting insights, performing statistical analysis, or solving business problems), and coding (Python, R, SQL) (or 1 year of work experience with a Master's degree)\",\n",
      "    \"skills\": [\"Statistics\", \"Mathematics\", \"Data Science\", \"Engineering\", \"Physics\", \"Economics\", \"Python\", \"R\", \"SQL\"],\n",
      "    \"description\": \"Help serve Google's worldwide user base of more than a billion people. Data Scientists provide quantitative support, market understanding and a strategic perspective to our partners throughout the organization. As a data-loving member of the team, you serve as an analytics expert for your partners, using numbers to help them make better decisions.\"\n",
      "}\n",
      "```\n"
     ]
    }
   ],
   "source": [
    "langchain_extract = prompt_extract | llm\n",
    "res = langchain_extract.invoke(input = {'page_data':page_data})\n",
    "print(res.content)\n"
   ]
  },
  {
   "cell_type": "code",
   "execution_count": 26,
   "id": "9513b5f3-062a-4d6d-9e86-827d52ef40a5",
   "metadata": {},
   "outputs": [
    {
     "data": {
      "text/plain": [
       "{'role': 'Data Scientist II, Product',\n",
       " 'experience': \"2 years of work experience with analysis applications (extracting insights, performing statistical analysis, or solving business problems), and coding (Python, R, SQL) (or 1 year of work experience with a Master's degree)\",\n",
       " 'skills': ['Statistics',\n",
       "  'Mathematics',\n",
       "  'Data Science',\n",
       "  'Engineering',\n",
       "  'Physics',\n",
       "  'Economics',\n",
       "  'Python',\n",
       "  'R',\n",
       "  'SQL'],\n",
       " 'description': \"Help serve Google's worldwide user base of more than a billion people. Data Scientists provide quantitative support, market understanding and a strategic perspective to our partners throughout the organization. As a data-loving member of the team, you serve as an analytics expert for your partners, using numbers to help them make better decisions.\"}"
      ]
     },
     "execution_count": 26,
     "metadata": {},
     "output_type": "execute_result"
    }
   ],
   "source": [
    "from langchain_core.output_parsers import JsonOutputParser\n",
    "\n",
    "json_parser = JsonOutputParser()\n",
    "json_res = json_parser.parse(res.content)\n",
    "json_res"
   ]
  },
  {
   "cell_type": "code",
   "execution_count": 27,
   "id": "198a26db-66bd-4b1c-bb85-8de37add6638",
   "metadata": {},
   "outputs": [
    {
     "data": {
      "text/plain": [
       "dict"
      ]
     },
     "execution_count": 27,
     "metadata": {},
     "output_type": "execute_result"
    }
   ],
   "source": [
    "type(json_res)"
   ]
  },
  {
   "cell_type": "code",
   "execution_count": 28,
   "id": "2ee9ee82-f152-400e-833a-fd9fe972f09c",
   "metadata": {},
   "outputs": [
    {
     "data": {
      "text/html": [
       "<div>\n",
       "<style scoped>\n",
       "    .dataframe tbody tr th:only-of-type {\n",
       "        vertical-align: middle;\n",
       "    }\n",
       "\n",
       "    .dataframe tbody tr th {\n",
       "        vertical-align: top;\n",
       "    }\n",
       "\n",
       "    .dataframe thead th {\n",
       "        text-align: right;\n",
       "    }\n",
       "</style>\n",
       "<table border=\"1\" class=\"dataframe\">\n",
       "  <thead>\n",
       "    <tr style=\"text-align: right;\">\n",
       "      <th></th>\n",
       "      <th>TechStacks</th>\n",
       "      <th>Link</th>\n",
       "    </tr>\n",
       "  </thead>\n",
       "  <tbody>\n",
       "    <tr>\n",
       "      <th>0</th>\n",
       "      <td>Flask, Pandas</td>\n",
       "      <td>https://github.com/dantenvmt/ISACA-2023</td>\n",
       "    </tr>\n",
       "    <tr>\n",
       "      <th>1</th>\n",
       "      <td>TensorFlow,TensorFlow Keras, Matplotlib</td>\n",
       "      <td>https://github.com/dantenvmt/farmville/</td>\n",
       "    </tr>\n",
       "    <tr>\n",
       "      <th>2</th>\n",
       "      <td>PRAW, Requests, NLTK (SentimentIntensityAnalyzer)</td>\n",
       "      <td>https://github.com/dantenvmt/Stock-Sentiment-A...</td>\n",
       "    </tr>\n",
       "    <tr>\n",
       "      <th>3</th>\n",
       "      <td>langchain, chromadb, llm, steamlit</td>\n",
       "      <td>https://github.com/dantenvmt/fridge</td>\n",
       "    </tr>\n",
       "    <tr>\n",
       "      <th>4</th>\n",
       "      <td>sklearn, numpy, pandas, matplotlib, seaborn</td>\n",
       "      <td>https://github.com/dantenvmt/Ad-Click-Predicti...</td>\n",
       "    </tr>\n",
       "  </tbody>\n",
       "</table>\n",
       "</div>"
      ],
      "text/plain": [
       "                                          TechStacks  \\\n",
       "0                                      Flask, Pandas   \n",
       "1            TensorFlow,TensorFlow Keras, Matplotlib   \n",
       "2  PRAW, Requests, NLTK (SentimentIntensityAnalyzer)   \n",
       "3                 langchain, chromadb, llm, steamlit   \n",
       "4        sklearn, numpy, pandas, matplotlib, seaborn   \n",
       "\n",
       "                                                Link  \n",
       "0            https://github.com/dantenvmt/ISACA-2023  \n",
       "1            https://github.com/dantenvmt/farmville/  \n",
       "2  https://github.com/dantenvmt/Stock-Sentiment-A...  \n",
       "3                https://github.com/dantenvmt/fridge  \n",
       "4  https://github.com/dantenvmt/Ad-Click-Predicti...  "
      ]
     },
     "execution_count": 28,
     "metadata": {},
     "output_type": "execute_result"
    }
   ],
   "source": [
    "import pandas as pd\n",
    "\n",
    "df = pd.read_csv(\"TechStacks_Links.csv\")\n",
    "df"
   ]
  },
  {
   "cell_type": "code",
   "execution_count": 29,
   "id": "4e901292-1fae-4bb0-b3fd-0c1bcda01321",
   "metadata": {},
   "outputs": [],
   "source": [
    "import chromadb\n",
    "import uuid\n",
    "\n",
    "client = chromadb.PersistentClient(\"vectorstore\")\n",
    "collection = client.get_or_create_collection(name = 'portforlio')\n",
    "if not collection.count():\n",
    "    for _, row in df.iterrows():\n",
    "        collection.add(documents = row['TechStacks'],\n",
    "                       metadatas = {'links': row['Link']},\n",
    "                       ids = [str(uuid.uuid4())])\n"
   ]
  },
  {
   "cell_type": "code",
   "execution_count": 30,
   "id": "3fc50c4b-de01-41fd-bc52-dad4cd359f1b",
   "metadata": {},
   "outputs": [
    {
     "data": {
      "text/plain": [
       "[[{'links': 'https://github.com/dantenvmt/farmville/'}]]"
      ]
     },
     "execution_count": 30,
     "metadata": {},
     "output_type": "execute_result"
    }
   ],
   "source": [
    "links  = collection.query(query_texts = ['experience in tensorflows'], n_results = 1).get('metadatas',[])\n",
    "links"
   ]
  },
  {
   "cell_type": "code",
   "execution_count": 36,
   "id": "cc36edd8-7554-4e02-9818-b6e0cd2f9bd9",
   "metadata": {},
   "outputs": [
    {
     "name": "stdout",
     "output_type": "stream",
     "text": [
      "{'role': 'Data Scientist II, Product', 'experience': \"2 years of work experience with analysis applications (extracting insights, performing statistical analysis, or solving business problems), and coding (Python, R, SQL) (or 1 year of work experience with a Master's degree)\", 'skills': ['Statistics', 'Mathematics', 'Data Science', 'Engineering', 'Physics', 'Economics', 'Python', 'R', 'SQL'], 'description': \"Help serve Google's worldwide user base of more than a billion people. Data Scientists provide quantitative support, market understanding and a strategic perspective to our partners throughout the organization. As a data-loving member of the team, you serve as an analytics expert for your partners, using numbers to help them make better decisions.\"}\n"
     ]
    },
    {
     "data": {
      "text/plain": [
       "['Statistics',\n",
       " 'Mathematics',\n",
       " 'Data Science',\n",
       " 'Engineering',\n",
       " 'Physics',\n",
       " 'Economics',\n",
       " 'Python',\n",
       " 'R',\n",
       " 'SQL']"
      ]
     },
     "execution_count": 36,
     "metadata": {},
     "output_type": "execute_result"
    }
   ],
   "source": [
    "jobs = json_res\n",
    "print(jobs)\n",
    "jobs['skills']"
   ]
  },
  {
   "cell_type": "code",
   "execution_count": 45,
   "id": "af19608a-33b6-4fc2-b7a6-4e0c748fad80",
   "metadata": {},
   "outputs": [],
   "source": [
    "cold_email_prompt = PromptTemplate.from_template(\n",
    "    \"\"\"\n",
    "    ### job description:\n",
    "    {job_description}\n",
    "    ### instruction:\n",
    "\n",
    "    I am Thuan Nguyen, a Master of Science in Business Analytics student at Texas A&M University-Commerce with a 4.0 GPA, expected to graduate in June 2025. My work experience includes a Graduate Research Assistant role and a Data Scientist Intern position at FPT Software, where I worked on projects related to AI-powered web applications, cybersecurity threat detection, and stock sentiment analysis. My technical expertise includes Python, R, SQL, machine learning, and data analysis tools like Excel Solver and Langchain. \n",
    "    I am looking to apply for a data science position. \n",
    "    The job description highlights the need for skills that will be provided in my portfolio {link}\n",
    "    Please help me draft a cold email that highlights my skills, my project experience (such as cybersecurity detection and stock prediction projects), and my interest in the company, while requesting a conversation to discuss potential opportunities.\n",
    "\n",
    "     Do not provide a preamble.\n",
    "    ### EMAIL (NO PREAMBLE):\n",
    "    \"\"\"\n",
    ")"
   ]
  },
  {
   "cell_type": "code",
   "execution_count": 46,
   "id": "9510839e-14b2-4c2a-8c2f-df388f03ea36",
   "metadata": {},
   "outputs": [],
   "source": [
    "cold_chain_email = cold_email_prompt | llm\n",
    "email = cold_chain_email.invoke({\"job_description\": str(jobs), \"link\": links})"
   ]
  },
  {
   "cell_type": "code",
   "execution_count": 47,
   "id": "94ca0dac-a923-43c0-a4c0-afc71f180622",
   "metadata": {},
   "outputs": [
    {
     "name": "stdout",
     "output_type": "stream",
     "text": [
      "Subject: Expressed Interest in Data Scientist Position at Google\n",
      "\n",
      "Dear Hiring Manager,\n",
      "\n",
      "I am excited to express my interest in the Data Scientist II, Product role at Google. As a Master of Science in Business Analytics student at Texas A&M University-Commerce, I am confident that my technical expertise and project experience make me a strong fit for this position.\n",
      "\n",
      "With a strong academic record, maintaining a 4.0 GPA, and expected to graduate in June 2025, I am eager to apply my skills in a real-world setting. My experience as a Graduate Research Assistant and Data Scientist Intern at FPT Software has provided me with hands-on experience in working on projects related to AI-powered web applications, cybersecurity threat detection, and stock sentiment analysis. These projects have not only honed my technical skills but also deepened my understanding of the importance of data-driven decision-making.\n",
      "\n",
      "My technical expertise includes proficiency in Python, R, SQL, machine learning, and data analysis tools like Excel Solver and Langchain. I am excited about the opportunity to bring my skills to a company like Google, where I can contribute to serving a worldwide user base of over a billion people.\n",
      "\n",
      "I would love the opportunity to discuss my qualifications further and explore potential opportunities at Google. I have included a link to my portfolio, which showcases my projects and skills in more detail: https://github.com/dantenvmt/farmville/. I would appreciate the chance to schedule a conversation to discuss how my skills and experience align with the company's needs.\n",
      "\n",
      "Thank you for considering my interest in the Data Scientist II, Product role. I look forward to the opportunity to discuss this further.\n",
      "\n",
      "Best regards,\n",
      "\n",
      "Thuan Nguyen\n"
     ]
    }
   ],
   "source": [
    "print(email.content)"
   ]
  },
  {
   "cell_type": "code",
   "execution_count": null,
   "id": "f14ad574-8e91-40d4-94a7-7081d7314109",
   "metadata": {},
   "outputs": [],
   "source": []
  }
 ],
 "metadata": {
  "kernelspec": {
   "display_name": "Python 3 (ipykernel)",
   "language": "python",
   "name": "python3"
  },
  "language_info": {
   "codemirror_mode": {
    "name": "ipython",
    "version": 3
   },
   "file_extension": ".py",
   "mimetype": "text/x-python",
   "name": "python",
   "nbconvert_exporter": "python",
   "pygments_lexer": "ipython3",
   "version": "3.9.7"
  }
 },
 "nbformat": 4,
 "nbformat_minor": 5
}
