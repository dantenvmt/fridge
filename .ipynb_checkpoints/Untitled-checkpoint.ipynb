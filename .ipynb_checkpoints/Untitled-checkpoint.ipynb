{
 "cells": [
  {
   "cell_type": "code",
   "execution_count": 2,
   "id": "fcdf71f3-26ed-42c5-9b1e-645ebd936264",
   "metadata": {},
   "outputs": [],
   "source": [
    "from langchain_google_genai import ChatGoogleGenerativeAI"
   ]
  },
  {
   "cell_type": "code",
   "execution_count": 9,
   "id": "b7743905-60b8-4956-b440-dc737e250aa2",
   "metadata": {},
   "outputs": [],
   "source": [
    "api_key = '****'\n",
    "\n",
    "\n",
    "\n",
    "llm = ChatGoogleGenerativeAI(\n",
    "    google_api_key = api_key,\n",
    "    model=\"gemini-1.5-pro\",\n",
    "    temperature=0.2,\n",
    "    max_retries=2,\n",
    "    # other params...\n",
    ")"
   ]
  },
  {
   "cell_type": "code",
   "execution_count": 12,
   "id": "fc87b7e9-9267-4e75-923b-6a59c939e890",
   "metadata": {},
   "outputs": [
    {
     "data": {
      "text/plain": [
       "AIMessage(content=\"Dear [Recipient Name],\\n\\nI'm writing to you today with a heart full of purrs and a head full of cat thoughts. You see, I've recently become enamored with these enigmatic creatures, and I simply had to share my newfound appreciation with someone.\\n\\nWhere do I even begin? Their independence is captivating, the way they move with such effortless grace is mesmerizing, and their purrs? A symphony of contentment that soothes the soul. \\n\\nI find myself captivated by their every move, from the way they meticulously groom themselves to the playful swats at dust particles dancing in the sunlight. They possess a unique blend of aloofness and affection, demanding attention one moment and offering gentle head boops the next. \\n\\nPerhaps it's their air of mystery, or the way they seem to possess an ancient wisdom, but cats have truly stolen a piece of my heart. They remind me to embrace moments of quiet contemplation, to find joy in the simple things, and to always land on my feet (metaphorically, of course).\\n\\nHave you ever experienced the joy of a cat's companionship? I'd love to hear your thoughts on these fascinating creatures.\\n\\nUntil then, may your days be filled with purrs and cuddles.\\n\\nWarmly,\\n\\n[Your Name] \\n\", additional_kwargs={}, response_metadata={'prompt_feedback': {'block_reason': 0, 'safety_ratings': []}, 'finish_reason': 'STOP', 'safety_ratings': [{'category': 'HARM_CATEGORY_SEXUALLY_EXPLICIT', 'probability': 'LOW', 'blocked': False}, {'category': 'HARM_CATEGORY_HATE_SPEECH', 'probability': 'NEGLIGIBLE', 'blocked': False}, {'category': 'HARM_CATEGORY_HARASSMENT', 'probability': 'NEGLIGIBLE', 'blocked': False}, {'category': 'HARM_CATEGORY_DANGEROUS_CONTENT', 'probability': 'NEGLIGIBLE', 'blocked': False}]}, id='run-6ee88a48-dc63-49aa-bb59-333d0e807a80-0', usage_metadata={'input_tokens': 6, 'output_tokens': 265, 'total_tokens': 271})"
      ]
     },
     "execution_count": 12,
     "metadata": {},
     "output_type": "execute_result"
    }
   ],
   "source": [
    "llm.invoke('write a letter about cat')"
   ]
  },
  {
   "cell_type": "code",
   "execution_count": 16,
   "id": "2ad3df09-3591-4034-ae66-12c7e1581ef5",
   "metadata": {},
   "outputs": [],
   "source": [
    "from langchain.utilities import SQLDatabase"
   ]
  },
  {
   "cell_type": "code",
   "execution_count": 21,
   "id": "6145b954-4799-4707-a221-4b246670a11b",
   "metadata": {},
   "outputs": [
    {
     "name": "stdout",
     "output_type": "stream",
     "text": [
      "\n",
      "CREATE TABLE fridge_items (\n",
      "\tid INTEGER NOT NULL AUTO_INCREMENT, \n",
      "\titem_name TEXT NOT NULL, \n",
      "\tquantity INTEGER NOT NULL, \n",
      "\texpiration_date DATE, \n",
      "\tPRIMARY KEY (id)\n",
      ")COLLATE utf8mb4_0900_ai_ci DEFAULT CHARSET=utf8mb4 ENGINE=InnoDB\n",
      "\n",
      "/*\n",
      "3 rows from fridge_items table:\n",
      "id\titem_name\tquantity\texpiration_date\n",
      "1\tEggs\t12\t2024-10-05\n",
      "2\tMilk\t1\t2024-10-01\n",
      "3\tTomatoes\t5\t2024-10-05\n",
      "*/\n",
      "\n",
      "\n",
      "CREATE TABLE recipe_ingredients (\n",
      "\tid INTEGER NOT NULL AUTO_INCREMENT, \n",
      "\trecipe_id INTEGER NOT NULL, \n",
      "\tingredient_name TEXT NOT NULL, \n",
      "\tquantity TEXT, \n",
      "\tPRIMARY KEY (id), \n",
      "\tCONSTRAINT recipe_ingredients_ibfk_1 FOREIGN KEY(recipe_id) REFERENCES recipes (id)\n",
      ")COLLATE utf8mb4_0900_ai_ci DEFAULT CHARSET=utf8mb4 ENGINE=InnoDB\n",
      "\n",
      "/*\n",
      "3 rows from recipe_ingredients table:\n",
      "id\trecipe_id\tingredient_name\tquantity\n",
      "1\t1\tPasta\t200g\n",
      "2\t1\tEggs\t2\n",
      "*/\n",
      "\n",
      "\n",
      "CREATE TABLE recipes (\n",
      "\tid INTEGER NOT NULL AUTO_INCREMENT, \n",
      "\ttitle TEXT NOT NULL, \n",
      "\tdescription TEXT, \n",
      "\tinstructions TEXT, \n",
      "\tfood_type TEXT NOT NULL, \n",
      "\tPRIMARY KEY (id)\n",
      ")COLLATE utf8mb4_0900_ai_ci DEFAULT CHARSET=utf8mb4 ENGINE=InnoDB\n",
      "\n",
      "/*\n",
      "3 rows from recipes table:\n",
      "id\ttitle\tdescription\tinstructions\tfood_type\n",
      "1\tSpaghetti Carbonara\tA classic Italian pasta dish\tCook pasta, mix with egg and pancetta.\tItalian\n",
      "2\tPho\tVietnamese beef noodle soup.\tCook beef with noodles and spices.\tVietnamese\n",
      "3\tSushi\tTraditional Japanese sushi.\tRoll rice and fish.\tJapanese\n",
      "*/\n"
     ]
    }
   ],
   "source": [
    "db_user = 'root'\n",
    "db_password = '130613'\n",
    "db_host = 'localhost'\n",
    "db_name = 'fridge'\n",
    "db = SQLDatabase.from_uri(f\"mysql+pymysql://{db_user}:{db_password}@{db_host}/{db_name}\",\n",
    "                              sample_rows_in_table_info=3)\n",
    "print(db.table_info)"
   ]
  },
  {
   "cell_type": "code",
   "execution_count": null,
   "id": "628efdc5-57c4-4d54-9440-c7fe8f881e4a",
   "metadata": {},
   "outputs": [],
   "source": []
  }
 ],
 "metadata": {
  "kernelspec": {
   "display_name": "Python 3 (ipykernel)",
   "language": "python",
   "name": "python3"
  },
  "language_info": {
   "codemirror_mode": {
    "name": "ipython",
    "version": 3
   },
   "file_extension": ".py",
   "mimetype": "text/x-python",
   "name": "python",
   "nbconvert_exporter": "python",
   "pygments_lexer": "ipython3",
   "version": "3.9.13"
  }
 },
 "nbformat": 4,
 "nbformat_minor": 5
}
